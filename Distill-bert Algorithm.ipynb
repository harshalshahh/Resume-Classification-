{
 "cells": [
  {
   "cell_type": "code",
   "execution_count": 1,
   "id": "e7cf20e2-92d9-4649-880f-d7c8fb935e77",
   "metadata": {},
   "outputs": [],
   "source": [
    "import numpy as np\n",
    "import pandas as pd"
   ]
  },
  {
   "cell_type": "code",
   "execution_count": 2,
   "id": "6733981e-ae3d-4e78-b3a4-783b80fc412c",
   "metadata": {},
   "outputs": [],
   "source": [
    "df = pd.read_csv('final_merged_dataset2.csv')"
   ]
  },
  {
   "cell_type": "code",
   "execution_count": 3,
   "id": "3567f807-8521-4bd9-805d-0a9461cb70b5",
   "metadata": {},
   "outputs": [
    {
     "data": {
      "text/html": [
       "<div>\n",
       "<style scoped>\n",
       "    .dataframe tbody tr th:only-of-type {\n",
       "        vertical-align: middle;\n",
       "    }\n",
       "\n",
       "    .dataframe tbody tr th {\n",
       "        vertical-align: top;\n",
       "    }\n",
       "\n",
       "    .dataframe thead th {\n",
       "        text-align: right;\n",
       "    }\n",
       "</style>\n",
       "<table border=\"1\" class=\"dataframe\">\n",
       "  <thead>\n",
       "    <tr style=\"text-align: right;\">\n",
       "      <th></th>\n",
       "      <th>Resume</th>\n",
       "      <th>Category</th>\n",
       "    </tr>\n",
       "  </thead>\n",
       "  <tbody>\n",
       "    <tr>\n",
       "      <th>7143</th>\n",
       "      <td>Full Stack Web Developer Full Stack Web Develo...</td>\n",
       "      <td>Web_Developer</td>\n",
       "    </tr>\n",
       "    <tr>\n",
       "      <th>2777</th>\n",
       "      <td>Front End Developer Front End Developer Front ...</td>\n",
       "      <td>Front_End_Developer</td>\n",
       "    </tr>\n",
       "    <tr>\n",
       "      <th>6991</th>\n",
       "      <td>Web Developer Web Developer Web Developer / De...</td>\n",
       "      <td>Web_Developer</td>\n",
       "    </tr>\n",
       "    <tr>\n",
       "      <th>5873</th>\n",
       "      <td>Senior System/Security Administrator/ Network ...</td>\n",
       "      <td>Systems_Administrator</td>\n",
       "    </tr>\n",
       "    <tr>\n",
       "      <th>5109</th>\n",
       "      <td>IT Security Analyst IT Security Analyst IT Sec...</td>\n",
       "      <td>Security_Analyst</td>\n",
       "    </tr>\n",
       "  </tbody>\n",
       "</table>\n",
       "</div>"
      ],
      "text/plain": [
       "                                                 Resume               Category\n",
       "7143  Full Stack Web Developer Full Stack Web Develo...          Web_Developer\n",
       "2777  Front End Developer Front End Developer Front ...    Front_End_Developer\n",
       "6991  Web Developer Web Developer Web Developer / De...          Web_Developer\n",
       "5873  Senior System/Security Administrator/ Network ...  Systems_Administrator\n",
       "5109  IT Security Analyst IT Security Analyst IT Sec...       Security_Analyst"
      ]
     },
     "execution_count": 3,
     "metadata": {},
     "output_type": "execute_result"
    }
   ],
   "source": [
    "df.sample(5)"
   ]
  },
  {
   "cell_type": "code",
   "execution_count": 4,
   "id": "c7ed2bb3-9b32-419d-8462-015bddc31bdf",
   "metadata": {},
   "outputs": [
    {
     "data": {
      "text/plain": [
       "(8234, 2)"
      ]
     },
     "execution_count": 4,
     "metadata": {},
     "output_type": "execute_result"
    }
   ],
   "source": [
    "df.shape"
   ]
  },
  {
   "cell_type": "code",
   "execution_count": 5,
   "id": "d54598ba-ba34-4b9f-b710-ede8d209949f",
   "metadata": {},
   "outputs": [
    {
     "name": "stdout",
     "output_type": "stream",
     "text": [
      "<class 'pandas.core.frame.DataFrame'>\n",
      "RangeIndex: 8234 entries, 0 to 8233\n",
      "Data columns (total 2 columns):\n",
      " #   Column    Non-Null Count  Dtype \n",
      "---  ------    --------------  ----- \n",
      " 0   Resume    8234 non-null   object\n",
      " 1   Category  8234 non-null   object\n",
      "dtypes: object(2)\n",
      "memory usage: 128.8+ KB\n"
     ]
    }
   ],
   "source": [
    "df.info()"
   ]
  },
  {
   "cell_type": "code",
   "execution_count": 6,
   "id": "a8be459a-edc3-41df-8b58-efb64cbc1bd2",
   "metadata": {},
   "outputs": [
    {
     "name": "stdout",
     "output_type": "stream",
     "text": [
      "Category\n",
      "Python_Developer          1278\n",
      "Java_Developer            1242\n",
      "Web_Developer              984\n",
      "Database_Administrator     920\n",
      "Security_Analyst           876\n",
      "Systems_Administrator      776\n",
      "Project_manager            722\n",
      "Front_End_Developer        530\n",
      "Network_Administrator      469\n",
      "Software_Developer         437\n",
      "Name: count, dtype: int64\n"
     ]
    }
   ],
   "source": [
    "print(df['Category'].value_counts())"
   ]
  },
  {
   "cell_type": "code",
   "execution_count": 7,
   "id": "6aa7027b-96ff-45e1-89d3-221e3afa81cc",
   "metadata": {},
   "outputs": [
    {
     "name": "stdout",
     "output_type": "stream",
     "text": [
      "                                                 Resume  \\\n",
      "7699  AWS Engineer AWS Engineer AWS Engineer - Allia...   \n",
      "3627  IT Project Manager IT Project Manager Arvada, ...   \n",
      "2519  Java Developer Java Developer Java Developer -...   \n",
      "1605  Java Developer Java Developer Java Developer -...   \n",
      "3783  Partner Solutions Architect Partner Solutions ...   \n",
      "\n",
      "                    Category  \n",
      "7699  Database_Administrator  \n",
      "3627         Project_manager  \n",
      "2519          Java_Developer  \n",
      "1605          Java_Developer  \n",
      "3783         Project_manager  \n"
     ]
    }
   ],
   "source": [
    "if df.empty:\n",
    "    print(\"DataFrame is empty.\")\n",
    "else:\n",
    "    # Proceed with sampling\n",
    "    sampled_data = df.sample(5)\n",
    "    print(sampled_data)"
   ]
  },
  {
   "cell_type": "code",
   "execution_count": 8,
   "id": "a345d394-0bf4-4b0d-a693-45731b324cbf",
   "metadata": {},
   "outputs": [],
   "source": [
    "from sklearn.preprocessing import LabelEncoder\n",
    "encoder = LabelEncoder()"
   ]
  },
  {
   "cell_type": "code",
   "execution_count": 9,
   "id": "73f73189-ccd2-4fba-8410-4751101df8dc",
   "metadata": {},
   "outputs": [],
   "source": [
    "df['target'] = encoder.fit_transform(df['Category'])"
   ]
  },
  {
   "cell_type": "code",
   "execution_count": 10,
   "id": "932eb8b4-f4a7-4a7f-8c5c-a44ddbebd038",
   "metadata": {},
   "outputs": [
    {
     "name": "stdout",
     "output_type": "stream",
     "text": [
      "                                                 Resume          Category  \\\n",
      "4280  IT Specialist (Tier II Help Desk/Customer Supp...  Security_Analyst   \n",
      "1332  Sr. Java Developer Sr.Java Developer Sr. Java ...    Java_Developer   \n",
      "1360  Sr. Java Full Stack Developer Sr. Java Full St...    Java_Developer   \n",
      "2039  Java Developer Java Developer Java Developer -...    Java_Developer   \n",
      "2401  Java Developer Java Developer Java Developer W...    Java_Developer   \n",
      "\n",
      "      target  \n",
      "4280       6  \n",
      "1332       2  \n",
      "1360       2  \n",
      "2039       2  \n",
      "2401       2  \n"
     ]
    }
   ],
   "source": [
    "if df.empty:\n",
    "    print(\"DataFrame is empty.\")\n",
    "else:\n",
    "    # Proceed with sampling\n",
    "    sampled_data = df.sample(5)\n",
    "    print(sampled_data)"
   ]
  },
  {
   "cell_type": "code",
   "execution_count": 11,
   "id": "884db138-23b0-47ca-9c43-9822c7dbac7e",
   "metadata": {},
   "outputs": [
    {
     "data": {
      "text/plain": [
       "Resume      0\n",
       "Category    0\n",
       "target      0\n",
       "dtype: int64"
      ]
     },
     "execution_count": 11,
     "metadata": {},
     "output_type": "execute_result"
    }
   ],
   "source": [
    "df.isnull().sum()"
   ]
  },
  {
   "cell_type": "code",
   "execution_count": 12,
   "id": "32830688-8fbe-4e30-bd10-59a509e38e46",
   "metadata": {},
   "outputs": [
    {
     "data": {
      "text/plain": [
       "67"
      ]
     },
     "execution_count": 12,
     "metadata": {},
     "output_type": "execute_result"
    }
   ],
   "source": [
    "df.duplicated().sum()"
   ]
  },
  {
   "cell_type": "code",
   "execution_count": 13,
   "id": "f9985d61-23db-4063-b46c-5570884a08b6",
   "metadata": {},
   "outputs": [],
   "source": [
    "df = df.drop_duplicates(keep='first')"
   ]
  },
  {
   "cell_type": "code",
   "execution_count": 14,
   "id": "704f9f91-2de2-4730-b67f-bafaa9c4bddc",
   "metadata": {},
   "outputs": [
    {
     "data": {
      "text/plain": [
       "0"
      ]
     },
     "execution_count": 14,
     "metadata": {},
     "output_type": "execute_result"
    }
   ],
   "source": [
    "df.duplicated().sum()"
   ]
  },
  {
   "cell_type": "code",
   "execution_count": 15,
   "id": "73a0a764-6cf1-4de3-9a7d-6cfa0e4e9dbb",
   "metadata": {},
   "outputs": [
    {
     "data": {
      "text/plain": [
       "target\n",
       "5    1278\n",
       "2    1206\n",
       "9     968\n",
       "0     920\n",
       "6     875\n",
       "8     769\n",
       "4     722\n",
       "1     523\n",
       "3     469\n",
       "7     437\n",
       "Name: count, dtype: int64"
      ]
     },
     "execution_count": 15,
     "metadata": {},
     "output_type": "execute_result"
    }
   ],
   "source": [
    "df['target'].value_counts()"
   ]
  },
  {
   "cell_type": "code",
   "execution_count": 16,
   "id": "7cf0bd05-cf7c-4f0e-9f53-ad2ab191f37c",
   "metadata": {},
   "outputs": [],
   "source": [
    "df['num_characters'] = df['Resume'].apply(len)"
   ]
  },
  {
   "cell_type": "code",
   "execution_count": 17,
   "id": "d937e3fb-82b3-46e2-836d-2f0bdc84404e",
   "metadata": {},
   "outputs": [],
   "source": [
    "import re\n",
    "def clean_resume(text):\n",
    "\n",
    "    # Remove URLs\n",
    "    text = re.sub(r\"http\\S+\", \"\", text)\n",
    "    # Remove non-alphanumeric characters and extra whitespaces\n",
    "    text = re.sub(r\"[^a-zA-Z0-9\\s]\", \" \", text)\n",
    "    # Remove extra whitespaces\n",
    "    text = re.sub(r\"\\s+\", \" \", text)\n",
    "    # Remove hashtags (words starting with #)\n",
    "    text = re.sub(r\"#\\w+\", \"\", text)\n",
    "    # Remove mentions (words starting with @)\n",
    "    text = re.sub(r\"@\\w+\", \"\", text)\n",
    "    # Remove punctuation and special characters\n",
    "    text = re.sub(r\"[^\\w\\s]\", \"\", text)\n",
    "    text = re.sub(r\"[\\n\\t\\r]\", \"\", text)\n",
    "    text = re.sub(r\"\\n\", \"\", text)\n",
    "    # Convert to lowercase\n",
    "    text = text.lower()\n",
    "\n",
    "    return text"
   ]
  },
  {
   "cell_type": "code",
   "execution_count": 18,
   "id": "34b6868d-04dd-4f74-a7b7-7b40053176f2",
   "metadata": {},
   "outputs": [
    {
     "name": "stdout",
     "output_type": "stream",
     "text": [
      "Requirement already satisfied: nltk in c:\\users\\harsh\\anaconda3-new\\lib\\site-packages (3.8.1)\n",
      "Requirement already satisfied: click in c:\\users\\harsh\\anaconda3-new\\lib\\site-packages (from nltk) (8.1.7)\n",
      "Requirement already satisfied: joblib in c:\\users\\harsh\\anaconda3-new\\lib\\site-packages (from nltk) (1.2.0)\n",
      "Requirement already satisfied: regex>=2021.8.3 in c:\\users\\harsh\\anaconda3-new\\lib\\site-packages (from nltk) (2023.10.3)\n",
      "Requirement already satisfied: tqdm in c:\\users\\harsh\\anaconda3-new\\lib\\site-packages (from nltk) (4.65.0)\n",
      "Requirement already satisfied: colorama in c:\\users\\harsh\\anaconda3-new\\lib\\site-packages (from click->nltk) (0.4.6)\n"
     ]
    },
    {
     "name": "stderr",
     "output_type": "stream",
     "text": [
      "[nltk_data] Downloading package punkt to\n",
      "[nltk_data]     C:\\Users\\harsh\\AppData\\Roaming\\nltk_data...\n",
      "[nltk_data]   Package punkt is already up-to-date!\n"
     ]
    },
    {
     "data": {
      "text/plain": [
       "True"
      ]
     },
     "execution_count": 18,
     "metadata": {},
     "output_type": "execute_result"
    }
   ],
   "source": [
    "import nltk\n",
    "!pip3 install nltk\n",
    "nltk.download('punkt')"
   ]
  },
  {
   "cell_type": "code",
   "execution_count": 19,
   "id": "5d99710b-4c00-4956-8759-62deeb2e2428",
   "metadata": {},
   "outputs": [],
   "source": [
    "df['Resume'] = df['Resume'].astype(str)\n",
    "\n",
    "# Apply the cleaning function\n",
    "df['Resume'] = df['Resume'].apply(lambda x: clean_resume(x))"
   ]
  },
  {
   "cell_type": "code",
   "execution_count": 20,
   "id": "54617ef2-407e-46a5-8e4a-e207f3281589",
   "metadata": {},
   "outputs": [
    {
     "data": {
      "text/plain": [
       "'python developer python developer philadelphia pa work experience python developer december 2017 to present python developer 2 years education bachelor s in computer science philadelphia pa'"
      ]
     },
     "execution_count": 20,
     "metadata": {},
     "output_type": "execute_result"
    }
   ],
   "source": [
    "df['Resume'][0]"
   ]
  },
  {
   "cell_type": "code",
   "execution_count": 23,
   "id": "c018ae78-ce65-4693-bbf5-315df39bb9cd",
   "metadata": {},
   "outputs": [
    {
     "name": "stdout",
     "output_type": "stream",
     "text": [
      "Requirement already satisfied: transformers in c:\\users\\harsh\\anaconda3-new\\lib\\site-packages (4.40.1)\n",
      "Requirement already satisfied: filelock in c:\\users\\harsh\\anaconda3-new\\lib\\site-packages (from transformers) (3.13.1)\n",
      "Requirement already satisfied: huggingface-hub<1.0,>=0.19.3 in c:\\users\\harsh\\anaconda3-new\\lib\\site-packages (from transformers) (0.23.0)\n",
      "Requirement already satisfied: numpy>=1.17 in c:\\users\\harsh\\anaconda3-new\\lib\\site-packages (from transformers) (1.24.4)\n",
      "Requirement already satisfied: packaging>=20.0 in c:\\users\\harsh\\anaconda3-new\\lib\\site-packages (from transformers) (23.1)\n",
      "Requirement already satisfied: pyyaml>=5.1 in c:\\users\\harsh\\anaconda3-new\\lib\\site-packages (from transformers) (6.0.1)\n",
      "Requirement already satisfied: regex!=2019.12.17 in c:\\users\\harsh\\anaconda3-new\\lib\\site-packages (from transformers) (2023.10.3)\n",
      "Requirement already satisfied: requests in c:\\users\\harsh\\anaconda3-new\\lib\\site-packages (from transformers) (2.31.0)\n",
      "Requirement already satisfied: tokenizers<0.20,>=0.19 in c:\\users\\harsh\\anaconda3-new\\lib\\site-packages (from transformers) (0.19.1)\n",
      "Requirement already satisfied: safetensors>=0.4.1 in c:\\users\\harsh\\anaconda3-new\\lib\\site-packages (from transformers) (0.4.3)\n",
      "Requirement already satisfied: tqdm>=4.27 in c:\\users\\harsh\\anaconda3-new\\lib\\site-packages (from transformers) (4.65.0)\n",
      "Requirement already satisfied: fsspec>=2023.5.0 in c:\\users\\harsh\\anaconda3-new\\lib\\site-packages (from huggingface-hub<1.0,>=0.19.3->transformers) (2023.10.0)\n",
      "Requirement already satisfied: typing-extensions>=3.7.4.3 in c:\\users\\harsh\\anaconda3-new\\lib\\site-packages (from huggingface-hub<1.0,>=0.19.3->transformers) (4.9.0)\n",
      "Requirement already satisfied: colorama in c:\\users\\harsh\\anaconda3-new\\lib\\site-packages (from tqdm>=4.27->transformers) (0.4.6)\n",
      "Requirement already satisfied: charset-normalizer<4,>=2 in c:\\users\\harsh\\anaconda3-new\\lib\\site-packages (from requests->transformers) (2.0.4)\n",
      "Requirement already satisfied: idna<4,>=2.5 in c:\\users\\harsh\\anaconda3-new\\lib\\site-packages (from requests->transformers) (3.4)\n",
      "Requirement already satisfied: urllib3<3,>=1.21.1 in c:\\users\\harsh\\anaconda3-new\\lib\\site-packages (from requests->transformers) (2.0.7)\n",
      "Requirement already satisfied: certifi>=2017.4.17 in c:\\users\\harsh\\anaconda3-new\\lib\\site-packages (from requests->transformers) (2024.2.2)\n",
      "Note: you may need to restart the kernel to use updated packages.\n"
     ]
    }
   ],
   "source": [
    "pip install transformers"
   ]
  },
  {
   "cell_type": "code",
   "execution_count": 24,
   "id": "2c27605d-2633-4d9f-8849-7218b52d16bc",
   "metadata": {},
   "outputs": [
    {
     "name": "stdout",
     "output_type": "stream",
     "text": [
      "Requirement already satisfied: torch in c:\\users\\harsh\\anaconda3-new\\lib\\site-packages (2.3.0)\n",
      "Requirement already satisfied: filelock in c:\\users\\harsh\\anaconda3-new\\lib\\site-packages (from torch) (3.13.1)\n",
      "Requirement already satisfied: typing-extensions>=4.8.0 in c:\\users\\harsh\\anaconda3-new\\lib\\site-packages (from torch) (4.9.0)\n",
      "Requirement already satisfied: sympy in c:\\users\\harsh\\anaconda3-new\\lib\\site-packages (from torch) (1.12)\n",
      "Requirement already satisfied: networkx in c:\\users\\harsh\\anaconda3-new\\lib\\site-packages (from torch) (3.1)\n",
      "Requirement already satisfied: jinja2 in c:\\users\\harsh\\anaconda3-new\\lib\\site-packages (from torch) (3.1.3)\n",
      "Requirement already satisfied: fsspec in c:\\users\\harsh\\anaconda3-new\\lib\\site-packages (from torch) (2023.10.0)\n",
      "Requirement already satisfied: mkl<=2021.4.0,>=2021.1.1 in c:\\users\\harsh\\anaconda3-new\\lib\\site-packages (from torch) (2021.4.0)\n",
      "Requirement already satisfied: intel-openmp==2021.* in c:\\users\\harsh\\anaconda3-new\\lib\\site-packages (from mkl<=2021.4.0,>=2021.1.1->torch) (2021.4.0)\n",
      "Requirement already satisfied: tbb==2021.* in c:\\users\\harsh\\anaconda3-new\\lib\\site-packages (from mkl<=2021.4.0,>=2021.1.1->torch) (2021.12.0)\n",
      "Requirement already satisfied: MarkupSafe>=2.0 in c:\\users\\harsh\\anaconda3-new\\lib\\site-packages (from jinja2->torch) (2.1.3)\n",
      "Requirement already satisfied: mpmath>=0.19 in c:\\users\\harsh\\anaconda3-new\\lib\\site-packages (from sympy->torch) (1.3.0)\n",
      "Note: you may need to restart the kernel to use updated packages.\n"
     ]
    }
   ],
   "source": [
    "pip install torch"
   ]
  },
  {
   "cell_type": "code",
   "execution_count": 25,
   "id": "441014d4-031b-477a-a5ea-c0af1e8bf5e2",
   "metadata": {},
   "outputs": [],
   "source": [
    "import pandas as pd\n",
    "from transformers import AutoTokenizer, AutoModelForSequenceClassification, TrainingArguments, Trainer\n",
    "import torch\n",
    "from torch.utils.data import Dataset, DataLoader\n",
    "from sklearn.model_selection import train_test_split\n"
   ]
  },
  {
   "cell_type": "code",
   "execution_count": 26,
   "id": "82f4a21e-08c2-4f52-82c7-629b1cb9791b",
   "metadata": {},
   "outputs": [
    {
     "name": "stdout",
     "output_type": "stream",
     "text": [
      "Requirement already satisfied: jupyterlab in c:\\users\\harsh\\anaconda3-new\\lib\\site-packages (4.2.0)\n",
      "Requirement already satisfied: async-lru>=1.0.0 in c:\\users\\harsh\\anaconda3-new\\lib\\site-packages (from jupyterlab) (2.0.4)\n",
      "Requirement already satisfied: httpx>=0.25.0 in c:\\users\\harsh\\anaconda3-new\\lib\\site-packages (from jupyterlab) (0.27.0)\n",
      "Requirement already satisfied: ipykernel>=6.5.0 in c:\\users\\harsh\\anaconda3-new\\lib\\site-packages (from jupyterlab) (6.28.0)\n",
      "Requirement already satisfied: jinja2>=3.0.3 in c:\\users\\harsh\\anaconda3-new\\lib\\site-packages (from jupyterlab) (3.1.3)\n",
      "Requirement already satisfied: jupyter-core in c:\\users\\harsh\\anaconda3-new\\lib\\site-packages (from jupyterlab) (5.5.0)\n",
      "Requirement already satisfied: jupyter-lsp>=2.0.0 in c:\\users\\harsh\\anaconda3-new\\lib\\site-packages (from jupyterlab) (2.2.0)\n",
      "Requirement already satisfied: jupyter-server<3,>=2.4.0 in c:\\users\\harsh\\anaconda3-new\\lib\\site-packages (from jupyterlab) (2.10.0)\n",
      "Requirement already satisfied: jupyterlab-server<3,>=2.27.1 in c:\\users\\harsh\\anaconda3-new\\lib\\site-packages (from jupyterlab) (2.27.1)\n",
      "Requirement already satisfied: notebook-shim>=0.2 in c:\\users\\harsh\\anaconda3-new\\lib\\site-packages (from jupyterlab) (0.2.3)\n",
      "Requirement already satisfied: packaging in c:\\users\\harsh\\anaconda3-new\\lib\\site-packages (from jupyterlab) (23.1)\n",
      "Requirement already satisfied: tornado>=6.2.0 in c:\\users\\harsh\\anaconda3-new\\lib\\site-packages (from jupyterlab) (6.3.3)\n",
      "Requirement already satisfied: traitlets in c:\\users\\harsh\\anaconda3-new\\lib\\site-packages (from jupyterlab) (5.7.1)\n",
      "Requirement already satisfied: anyio in c:\\users\\harsh\\anaconda3-new\\lib\\site-packages (from httpx>=0.25.0->jupyterlab) (4.2.0)\n",
      "Requirement already satisfied: certifi in c:\\users\\harsh\\anaconda3-new\\lib\\site-packages (from httpx>=0.25.0->jupyterlab) (2024.2.2)\n",
      "Requirement already satisfied: httpcore==1.* in c:\\users\\harsh\\anaconda3-new\\lib\\site-packages (from httpx>=0.25.0->jupyterlab) (1.0.5)\n",
      "Requirement already satisfied: idna in c:\\users\\harsh\\anaconda3-new\\lib\\site-packages (from httpx>=0.25.0->jupyterlab) (3.4)\n",
      "Requirement already satisfied: sniffio in c:\\users\\harsh\\anaconda3-new\\lib\\site-packages (from httpx>=0.25.0->jupyterlab) (1.3.0)\n",
      "Requirement already satisfied: h11<0.15,>=0.13 in c:\\users\\harsh\\anaconda3-new\\lib\\site-packages (from httpcore==1.*->httpx>=0.25.0->jupyterlab) (0.14.0)\n",
      "Requirement already satisfied: comm>=0.1.1 in c:\\users\\harsh\\anaconda3-new\\lib\\site-packages (from ipykernel>=6.5.0->jupyterlab) (0.2.2)\n",
      "Requirement already satisfied: debugpy>=1.6.5 in c:\\users\\harsh\\anaconda3-new\\lib\\site-packages (from ipykernel>=6.5.0->jupyterlab) (1.6.7)\n",
      "Requirement already satisfied: ipython>=7.23.1 in c:\\users\\harsh\\anaconda3-new\\lib\\site-packages (from ipykernel>=6.5.0->jupyterlab) (8.20.0)\n",
      "Requirement already satisfied: jupyter-client>=6.1.12 in c:\\users\\harsh\\anaconda3-new\\lib\\site-packages (from ipykernel>=6.5.0->jupyterlab) (8.6.0)\n",
      "Requirement already satisfied: matplotlib-inline>=0.1 in c:\\users\\harsh\\anaconda3-new\\lib\\site-packages (from ipykernel>=6.5.0->jupyterlab) (0.1.6)\n",
      "Requirement already satisfied: nest-asyncio in c:\\users\\harsh\\anaconda3-new\\lib\\site-packages (from ipykernel>=6.5.0->jupyterlab) (1.6.0)\n",
      "Requirement already satisfied: psutil in c:\\users\\harsh\\anaconda3-new\\lib\\site-packages (from ipykernel>=6.5.0->jupyterlab) (5.9.0)\n",
      "Requirement already satisfied: pyzmq>=24 in c:\\users\\harsh\\anaconda3-new\\lib\\site-packages (from ipykernel>=6.5.0->jupyterlab) (25.1.2)\n",
      "Requirement already satisfied: MarkupSafe>=2.0 in c:\\users\\harsh\\anaconda3-new\\lib\\site-packages (from jinja2>=3.0.3->jupyterlab) (2.1.3)\n",
      "Requirement already satisfied: platformdirs>=2.5 in c:\\users\\harsh\\anaconda3-new\\lib\\site-packages (from jupyter-core->jupyterlab) (3.10.0)\n",
      "Requirement already satisfied: pywin32>=300 in c:\\users\\harsh\\anaconda3-new\\lib\\site-packages (from jupyter-core->jupyterlab) (305.1)\n",
      "Requirement already satisfied: argon2-cffi in c:\\users\\harsh\\anaconda3-new\\lib\\site-packages (from jupyter-server<3,>=2.4.0->jupyterlab) (21.3.0)\n",
      "Requirement already satisfied: jupyter-events>=0.6.0 in c:\\users\\harsh\\anaconda3-new\\lib\\site-packages (from jupyter-server<3,>=2.4.0->jupyterlab) (0.8.0)\n",
      "Requirement already satisfied: jupyter-server-terminals in c:\\users\\harsh\\anaconda3-new\\lib\\site-packages (from jupyter-server<3,>=2.4.0->jupyterlab) (0.4.4)\n",
      "Requirement already satisfied: nbconvert>=6.4.4 in c:\\users\\harsh\\anaconda3-new\\lib\\site-packages (from jupyter-server<3,>=2.4.0->jupyterlab) (7.10.0)\n",
      "Requirement already satisfied: nbformat>=5.3.0 in c:\\users\\harsh\\anaconda3-new\\lib\\site-packages (from jupyter-server<3,>=2.4.0->jupyterlab) (5.9.2)\n",
      "Requirement already satisfied: overrides in c:\\users\\harsh\\anaconda3-new\\lib\\site-packages (from jupyter-server<3,>=2.4.0->jupyterlab) (7.4.0)\n",
      "Requirement already satisfied: prometheus-client in c:\\users\\harsh\\anaconda3-new\\lib\\site-packages (from jupyter-server<3,>=2.4.0->jupyterlab) (0.14.1)\n",
      "Requirement already satisfied: pywinpty in c:\\users\\harsh\\anaconda3-new\\lib\\site-packages (from jupyter-server<3,>=2.4.0->jupyterlab) (2.0.10)\n",
      "Requirement already satisfied: send2trash>=1.8.2 in c:\\users\\harsh\\anaconda3-new\\lib\\site-packages (from jupyter-server<3,>=2.4.0->jupyterlab) (1.8.2)\n",
      "Requirement already satisfied: terminado>=0.8.3 in c:\\users\\harsh\\anaconda3-new\\lib\\site-packages (from jupyter-server<3,>=2.4.0->jupyterlab) (0.17.1)\n",
      "Requirement already satisfied: websocket-client in c:\\users\\harsh\\anaconda3-new\\lib\\site-packages (from jupyter-server<3,>=2.4.0->jupyterlab) (0.58.0)\n",
      "Requirement already satisfied: babel>=2.10 in c:\\users\\harsh\\anaconda3-new\\lib\\site-packages (from jupyterlab-server<3,>=2.27.1->jupyterlab) (2.11.0)\n",
      "Requirement already satisfied: json5>=0.9.0 in c:\\users\\harsh\\anaconda3-new\\lib\\site-packages (from jupyterlab-server<3,>=2.27.1->jupyterlab) (0.9.6)\n",
      "Requirement already satisfied: jsonschema>=4.18.0 in c:\\users\\harsh\\anaconda3-new\\lib\\site-packages (from jupyterlab-server<3,>=2.27.1->jupyterlab) (4.19.2)\n",
      "Requirement already satisfied: requests>=2.31 in c:\\users\\harsh\\anaconda3-new\\lib\\site-packages (from jupyterlab-server<3,>=2.27.1->jupyterlab) (2.31.0)\n",
      "Requirement already satisfied: pytz>=2015.7 in c:\\users\\harsh\\anaconda3-new\\lib\\site-packages (from babel>=2.10->jupyterlab-server<3,>=2.27.1->jupyterlab) (2023.3.post1)\n",
      "Requirement already satisfied: decorator in c:\\users\\harsh\\anaconda3-new\\lib\\site-packages (from ipython>=7.23.1->ipykernel>=6.5.0->jupyterlab) (5.1.1)\n",
      "Requirement already satisfied: jedi>=0.16 in c:\\users\\harsh\\anaconda3-new\\lib\\site-packages (from ipython>=7.23.1->ipykernel>=6.5.0->jupyterlab) (0.18.1)\n",
      "Requirement already satisfied: prompt-toolkit<3.1.0,>=3.0.41 in c:\\users\\harsh\\anaconda3-new\\lib\\site-packages (from ipython>=7.23.1->ipykernel>=6.5.0->jupyterlab) (3.0.43)\n",
      "Requirement already satisfied: pygments>=2.4.0 in c:\\users\\harsh\\anaconda3-new\\lib\\site-packages (from ipython>=7.23.1->ipykernel>=6.5.0->jupyterlab) (2.15.1)\n",
      "Requirement already satisfied: stack-data in c:\\users\\harsh\\anaconda3-new\\lib\\site-packages (from ipython>=7.23.1->ipykernel>=6.5.0->jupyterlab) (0.2.0)\n",
      "Requirement already satisfied: colorama in c:\\users\\harsh\\anaconda3-new\\lib\\site-packages (from ipython>=7.23.1->ipykernel>=6.5.0->jupyterlab) (0.4.6)\n",
      "Requirement already satisfied: attrs>=22.2.0 in c:\\users\\harsh\\anaconda3-new\\lib\\site-packages (from jsonschema>=4.18.0->jupyterlab-server<3,>=2.27.1->jupyterlab) (23.1.0)\n",
      "Requirement already satisfied: jsonschema-specifications>=2023.03.6 in c:\\users\\harsh\\anaconda3-new\\lib\\site-packages (from jsonschema>=4.18.0->jupyterlab-server<3,>=2.27.1->jupyterlab) (2023.7.1)\n",
      "Requirement already satisfied: referencing>=0.28.4 in c:\\users\\harsh\\anaconda3-new\\lib\\site-packages (from jsonschema>=4.18.0->jupyterlab-server<3,>=2.27.1->jupyterlab) (0.30.2)\n",
      "Requirement already satisfied: rpds-py>=0.7.1 in c:\\users\\harsh\\anaconda3-new\\lib\\site-packages (from jsonschema>=4.18.0->jupyterlab-server<3,>=2.27.1->jupyterlab) (0.10.6)\n",
      "Requirement already satisfied: python-dateutil>=2.8.2 in c:\\users\\harsh\\anaconda3-new\\lib\\site-packages (from jupyter-client>=6.1.12->ipykernel>=6.5.0->jupyterlab) (2.8.2)\n",
      "Requirement already satisfied: python-json-logger>=2.0.4 in c:\\users\\harsh\\anaconda3-new\\lib\\site-packages (from jupyter-events>=0.6.0->jupyter-server<3,>=2.4.0->jupyterlab) (2.0.7)\n",
      "Requirement already satisfied: pyyaml>=5.3 in c:\\users\\harsh\\anaconda3-new\\lib\\site-packages (from jupyter-events>=0.6.0->jupyter-server<3,>=2.4.0->jupyterlab) (6.0.1)\n",
      "Requirement already satisfied: rfc3339-validator in c:\\users\\harsh\\anaconda3-new\\lib\\site-packages (from jupyter-events>=0.6.0->jupyter-server<3,>=2.4.0->jupyterlab) (0.1.4)\n",
      "Requirement already satisfied: rfc3986-validator>=0.1.1 in c:\\users\\harsh\\anaconda3-new\\lib\\site-packages (from jupyter-events>=0.6.0->jupyter-server<3,>=2.4.0->jupyterlab) (0.1.1)\n",
      "Requirement already satisfied: beautifulsoup4 in c:\\users\\harsh\\anaconda3-new\\lib\\site-packages (from nbconvert>=6.4.4->jupyter-server<3,>=2.4.0->jupyterlab) (4.12.2)\n",
      "Requirement already satisfied: bleach!=5.0.0 in c:\\users\\harsh\\anaconda3-new\\lib\\site-packages (from nbconvert>=6.4.4->jupyter-server<3,>=2.4.0->jupyterlab) (4.1.0)\n",
      "Requirement already satisfied: defusedxml in c:\\users\\harsh\\anaconda3-new\\lib\\site-packages (from nbconvert>=6.4.4->jupyter-server<3,>=2.4.0->jupyterlab) (0.7.1)\n",
      "Requirement already satisfied: jupyterlab-pygments in c:\\users\\harsh\\anaconda3-new\\lib\\site-packages (from nbconvert>=6.4.4->jupyter-server<3,>=2.4.0->jupyterlab) (0.1.2)\n",
      "Requirement already satisfied: mistune<4,>=2.0.3 in c:\\users\\harsh\\anaconda3-new\\lib\\site-packages (from nbconvert>=6.4.4->jupyter-server<3,>=2.4.0->jupyterlab) (2.0.4)\n",
      "Requirement already satisfied: nbclient>=0.5.0 in c:\\users\\harsh\\anaconda3-new\\lib\\site-packages (from nbconvert>=6.4.4->jupyter-server<3,>=2.4.0->jupyterlab) (0.8.0)\n",
      "Requirement already satisfied: pandocfilters>=1.4.1 in c:\\users\\harsh\\anaconda3-new\\lib\\site-packages (from nbconvert>=6.4.4->jupyter-server<3,>=2.4.0->jupyterlab) (1.5.0)\n",
      "Requirement already satisfied: tinycss2 in c:\\users\\harsh\\anaconda3-new\\lib\\site-packages (from nbconvert>=6.4.4->jupyter-server<3,>=2.4.0->jupyterlab) (1.2.1)\n",
      "Requirement already satisfied: fastjsonschema in c:\\users\\harsh\\anaconda3-new\\lib\\site-packages (from nbformat>=5.3.0->jupyter-server<3,>=2.4.0->jupyterlab) (2.16.2)\n",
      "Requirement already satisfied: charset-normalizer<4,>=2 in c:\\users\\harsh\\anaconda3-new\\lib\\site-packages (from requests>=2.31->jupyterlab-server<3,>=2.27.1->jupyterlab) (2.0.4)\n",
      "Requirement already satisfied: urllib3<3,>=1.21.1 in c:\\users\\harsh\\anaconda3-new\\lib\\site-packages (from requests>=2.31->jupyterlab-server<3,>=2.27.1->jupyterlab) (2.0.7)\n",
      "Requirement already satisfied: argon2-cffi-bindings in c:\\users\\harsh\\anaconda3-new\\lib\\site-packages (from argon2-cffi->jupyter-server<3,>=2.4.0->jupyterlab) (21.2.0)\n",
      "Requirement already satisfied: six in c:\\users\\harsh\\anaconda3-new\\lib\\site-packages (from websocket-client->jupyter-server<3,>=2.4.0->jupyterlab) (1.16.0)\n",
      "Requirement already satisfied: webencodings in c:\\users\\harsh\\anaconda3-new\\lib\\site-packages (from bleach!=5.0.0->nbconvert>=6.4.4->jupyter-server<3,>=2.4.0->jupyterlab) (0.5.1)\n",
      "Requirement already satisfied: parso<0.9.0,>=0.8.0 in c:\\users\\harsh\\anaconda3-new\\lib\\site-packages (from jedi>=0.16->ipython>=7.23.1->ipykernel>=6.5.0->jupyterlab) (0.8.3)\n",
      "Requirement already satisfied: fqdn in c:\\users\\harsh\\anaconda3-new\\lib\\site-packages (from jsonschema[format-nongpl]>=4.18.0->jupyter-events>=0.6.0->jupyter-server<3,>=2.4.0->jupyterlab) (1.5.1)\n",
      "Requirement already satisfied: isoduration in c:\\users\\harsh\\anaconda3-new\\lib\\site-packages (from jsonschema[format-nongpl]>=4.18.0->jupyter-events>=0.6.0->jupyter-server<3,>=2.4.0->jupyterlab) (20.11.0)\n",
      "Requirement already satisfied: jsonpointer>1.13 in c:\\users\\harsh\\anaconda3-new\\lib\\site-packages (from jsonschema[format-nongpl]>=4.18.0->jupyter-events>=0.6.0->jupyter-server<3,>=2.4.0->jupyterlab) (2.1)\n",
      "Requirement already satisfied: uri-template in c:\\users\\harsh\\anaconda3-new\\lib\\site-packages (from jsonschema[format-nongpl]>=4.18.0->jupyter-events>=0.6.0->jupyter-server<3,>=2.4.0->jupyterlab) (1.3.0)\n",
      "Requirement already satisfied: webcolors>=1.11 in c:\\users\\harsh\\anaconda3-new\\lib\\site-packages (from jsonschema[format-nongpl]>=4.18.0->jupyter-events>=0.6.0->jupyter-server<3,>=2.4.0->jupyterlab) (1.13)\n",
      "Requirement already satisfied: wcwidth in c:\\users\\harsh\\anaconda3-new\\lib\\site-packages (from prompt-toolkit<3.1.0,>=3.0.41->ipython>=7.23.1->ipykernel>=6.5.0->jupyterlab) (0.2.5)\n",
      "Requirement already satisfied: cffi>=1.0.1 in c:\\users\\harsh\\anaconda3-new\\lib\\site-packages (from argon2-cffi-bindings->argon2-cffi->jupyter-server<3,>=2.4.0->jupyterlab) (1.16.0)\n",
      "Requirement already satisfied: soupsieve>1.2 in c:\\users\\harsh\\anaconda3-new\\lib\\site-packages (from beautifulsoup4->nbconvert>=6.4.4->jupyter-server<3,>=2.4.0->jupyterlab) (2.5)\n",
      "Requirement already satisfied: executing in c:\\users\\harsh\\anaconda3-new\\lib\\site-packages (from stack-data->ipython>=7.23.1->ipykernel>=6.5.0->jupyterlab) (0.8.3)\n",
      "Requirement already satisfied: asttokens in c:\\users\\harsh\\anaconda3-new\\lib\\site-packages (from stack-data->ipython>=7.23.1->ipykernel>=6.5.0->jupyterlab) (2.0.5)\n",
      "Requirement already satisfied: pure-eval in c:\\users\\harsh\\anaconda3-new\\lib\\site-packages (from stack-data->ipython>=7.23.1->ipykernel>=6.5.0->jupyterlab) (0.2.2)\n",
      "Requirement already satisfied: pycparser in c:\\users\\harsh\\anaconda3-new\\lib\\site-packages (from cffi>=1.0.1->argon2-cffi-bindings->argon2-cffi->jupyter-server<3,>=2.4.0->jupyterlab) (2.21)\n",
      "Requirement already satisfied: arrow>=0.15.0 in c:\\users\\harsh\\anaconda3-new\\lib\\site-packages (from isoduration->jsonschema[format-nongpl]>=4.18.0->jupyter-events>=0.6.0->jupyter-server<3,>=2.4.0->jupyterlab) (1.2.3)\n"
     ]
    },
    {
     "name": "stderr",
     "output_type": "stream",
     "text": [
      "\u001b[33m(Deprecated) Installing extensions with the jupyter labextension install command is now deprecated and will be removed in a future major version of JupyterLab.\n",
      "\n",
      "Users should manage prebuilt extensions with package managers like pip and conda, and extension authors are encouraged to distribute their extensions as prebuilt packages \u001b[0m\n",
      "C:\\Users\\harsh\\anaconda3-New\\Lib\\site-packages\\jupyterlab\\debuglog.py:54: UserWarning: An error occurred.\n",
      "  warnings.warn(\"An error occurred.\")\n",
      "C:\\Users\\harsh\\anaconda3-New\\Lib\\site-packages\\jupyterlab\\debuglog.py:55: UserWarning: ValueError: Please install Node.js and npm before continuing installation. You may be able to install Node.js from your package manager, from conda, or directly from the Node.js website (https://nodejs.org).\n",
      "  warnings.warn(msg[-1].strip())\n",
      "C:\\Users\\harsh\\anaconda3-New\\Lib\\site-packages\\jupyterlab\\debuglog.py:56: UserWarning: See the log file for details: C:\\Users\\harsh\\AppData\\Local\\Temp\\jupyterlab-debug-o8434vq8.log\n",
      "  warnings.warn(f\"See the log file for details: {log_path!s}\")\n"
     ]
    },
    {
     "name": "stdout",
     "output_type": "stream",
     "text": [
      "Requirement already satisfied: ipywidgets in c:\\users\\harsh\\anaconda3-new\\lib\\site-packages (8.1.2)\n",
      "Requirement already satisfied: comm>=0.1.3 in c:\\users\\harsh\\anaconda3-new\\lib\\site-packages (from ipywidgets) (0.2.2)\n",
      "Requirement already satisfied: ipython>=6.1.0 in c:\\users\\harsh\\anaconda3-new\\lib\\site-packages (from ipywidgets) (8.20.0)\n",
      "Requirement already satisfied: traitlets>=4.3.1 in c:\\users\\harsh\\anaconda3-new\\lib\\site-packages (from ipywidgets) (5.7.1)\n",
      "Requirement already satisfied: widgetsnbextension~=4.0.10 in c:\\users\\harsh\\anaconda3-new\\lib\\site-packages (from ipywidgets) (4.0.10)\n",
      "Requirement already satisfied: jupyterlab-widgets~=3.0.10 in c:\\users\\harsh\\anaconda3-new\\lib\\site-packages (from ipywidgets) (3.0.10)\n",
      "Requirement already satisfied: decorator in c:\\users\\harsh\\anaconda3-new\\lib\\site-packages (from ipython>=6.1.0->ipywidgets) (5.1.1)\n",
      "Requirement already satisfied: jedi>=0.16 in c:\\users\\harsh\\anaconda3-new\\lib\\site-packages (from ipython>=6.1.0->ipywidgets) (0.18.1)\n",
      "Requirement already satisfied: matplotlib-inline in c:\\users\\harsh\\anaconda3-new\\lib\\site-packages (from ipython>=6.1.0->ipywidgets) (0.1.6)\n",
      "Requirement already satisfied: prompt-toolkit<3.1.0,>=3.0.41 in c:\\users\\harsh\\anaconda3-new\\lib\\site-packages (from ipython>=6.1.0->ipywidgets) (3.0.43)\n",
      "Requirement already satisfied: pygments>=2.4.0 in c:\\users\\harsh\\anaconda3-new\\lib\\site-packages (from ipython>=6.1.0->ipywidgets) (2.15.1)\n",
      "Requirement already satisfied: stack-data in c:\\users\\harsh\\anaconda3-new\\lib\\site-packages (from ipython>=6.1.0->ipywidgets) (0.2.0)\n",
      "Requirement already satisfied: colorama in c:\\users\\harsh\\anaconda3-new\\lib\\site-packages (from ipython>=6.1.0->ipywidgets) (0.4.6)\n",
      "Requirement already satisfied: parso<0.9.0,>=0.8.0 in c:\\users\\harsh\\anaconda3-new\\lib\\site-packages (from jedi>=0.16->ipython>=6.1.0->ipywidgets) (0.8.3)\n",
      "Requirement already satisfied: wcwidth in c:\\users\\harsh\\anaconda3-new\\lib\\site-packages (from prompt-toolkit<3.1.0,>=3.0.41->ipython>=6.1.0->ipywidgets) (0.2.5)\n",
      "Requirement already satisfied: executing in c:\\users\\harsh\\anaconda3-new\\lib\\site-packages (from stack-data->ipython>=6.1.0->ipywidgets) (0.8.3)\n",
      "Requirement already satisfied: asttokens in c:\\users\\harsh\\anaconda3-new\\lib\\site-packages (from stack-data->ipython>=6.1.0->ipywidgets) (2.0.5)\n",
      "Requirement already satisfied: pure-eval in c:\\users\\harsh\\anaconda3-new\\lib\\site-packages (from stack-data->ipython>=6.1.0->ipywidgets) (0.2.2)\n",
      "Requirement already satisfied: six in c:\\users\\harsh\\anaconda3-new\\lib\\site-packages (from asttokens->stack-data->ipython>=6.1.0->ipywidgets) (1.16.0)\n"
     ]
    },
    {
     "name": "stderr",
     "output_type": "stream",
     "text": [
      "[LabBuildApp] JupyterLab 4.2.0\n",
      "[LabBuildApp] Building in C:\\Users\\harsh\\anaconda3-New\\share\\jupyter\\lab\n",
      "[LabBuildApp] ERROR | Build failed.\n",
      "Troubleshooting: If the build failed due to an out-of-memory error, you\n",
      "may be able to fix it by disabling the `dev_build` and/or `minimize` options.\n",
      "\n",
      "If you are building via the `jupyter lab build` command, you can disable\n",
      "these options like so:\n",
      "\n",
      "jupyter lab build --dev-build=False --minimize=False\n",
      "\n",
      "You can also disable these options for all JupyterLab builds by adding these\n",
      "lines to a Jupyter config file named `jupyter_config.py`:\n",
      "\n",
      "c.LabBuildApp.minimize = False\n",
      "c.LabBuildApp.dev_build = False\n",
      "\n",
      "If you don't already have a `jupyter_config.py` file, you can create one by\n",
      "adding a blank file of that name to any of the Jupyter config directories.\n",
      "The config directories can be listed by running:\n",
      "\n",
      "jupyter --paths\n",
      "\n",
      "Explanation:\n",
      "\n",
      "- `dev-build`: This option controls whether a `dev` or a more streamlined\n",
      "`production` build is used. This option will default to `False` (i.e., the\n",
      "`production` build) for most users. However, if you have any labextensions\n",
      "installed from local files, this option will instead default to `True`.\n",
      "Explicitly setting `dev-build` to `False` will ensure that the `production`\n",
      "build is used in all circumstances.\n",
      "\n",
      "- `minimize`: This option controls whether your JS bundle is minified\n",
      "during the Webpack build, which helps to improve JupyterLab's overall\n",
      "performance. However, the minifier plugin used by Webpack is very memory\n",
      "intensive, so turning it off may help the build finish successfully in\n",
      "low-memory environments.\n",
      "\n",
      "C:\\Users\\harsh\\anaconda3-New\\Lib\\site-packages\\jupyterlab\\debuglog.py:54: UserWarning: An error occurred.\n",
      "  warnings.warn(\"An error occurred.\")\n",
      "C:\\Users\\harsh\\anaconda3-New\\Lib\\site-packages\\jupyterlab\\debuglog.py:55: UserWarning: ValueError: Please install Node.js and npm before continuing installation. You may be able to install Node.js from your package manager, from conda, or directly from the Node.js website (https://nodejs.org).\n",
      "  warnings.warn(msg[-1].strip())\n",
      "C:\\Users\\harsh\\anaconda3-New\\Lib\\site-packages\\jupyterlab\\debuglog.py:56: UserWarning: See the log file for details: C:\\Users\\harsh\\AppData\\Local\\Temp\\jupyterlab-debug-zpgi66dx.log\n",
      "  warnings.warn(f\"See the log file for details: {log_path!s}\")\n"
     ]
    }
   ],
   "source": [
    "# Upgrade JupyterLab\n",
    "!pip install --upgrade jupyterlab\n",
    "\n",
    "# Install or upgrade the Jupyter Widgets extension\n",
    "!jupyter labextension install @jupyter-widgets/jupyterlab-manager\n",
    "\n",
    "# Upgrade ipywidgets if necessary\n",
    "!pip install --upgrade ipywidgets\n",
    "\n",
    "# Rebuild JupyterLab\n",
    "!jupyter lab build\n"
   ]
  },
  {
   "cell_type": "code",
   "execution_count": 27,
   "id": "1d582088-eebb-4c92-9575-50af522c46ed",
   "metadata": {},
   "outputs": [],
   "source": [
    "df['Category'] = df['Category'].astype('category')\n",
    "labels = df['Category'].cat.codes"
   ]
  },
  {
   "cell_type": "code",
   "execution_count": 28,
   "id": "315f7d7c-31ac-4946-bd29-8aec9c5cd4f3",
   "metadata": {},
   "outputs": [
    {
     "name": "stderr",
     "output_type": "stream",
     "text": [
      "C:\\Users\\harsh\\anaconda3-New\\Lib\\site-packages\\huggingface_hub\\file_download.py:1132: FutureWarning: `resume_download` is deprecated and will be removed in version 1.0.0. Downloads always resume when possible. If you want to force a new download, use `force_download=True`.\n",
      "  warnings.warn(\n"
     ]
    }
   ],
   "source": [
    "tokenizer = AutoTokenizer.from_pretrained(\"distilbert/distilbert-base-uncased\")\n",
    "tokenized_data = tokenizer(list(df['Resume']), truncation=True, padding=True, max_length=512)"
   ]
  },
  {
   "cell_type": "code",
   "execution_count": 29,
   "id": "cb147981-0c89-4665-8a93-8a47e1fef965",
   "metadata": {},
   "outputs": [],
   "source": [
    "class ResumeDataset(Dataset):\n",
    "    def __init__(self, encodings, labels):\n",
    "        self.encodings = encodings\n",
    "        self.labels = labels\n",
    "\n",
    "    def __getitem__(self, idx):\n",
    "        item = {key: torch.tensor(val[idx]) for key, val in self.encodings.items()}\n",
    "        item['labels'] = torch.tensor(self.labels[idx])\n",
    "        return item\n",
    "\n",
    "    def __len__(self):\n",
    "        return len(self.labels)"
   ]
  },
  {
   "cell_type": "code",
   "execution_count": 30,
   "id": "e1e2d7d0-43fd-4c44-b84f-59c012e8abcb",
   "metadata": {},
   "outputs": [
    {
     "name": "stdout",
     "output_type": "stream",
     "text": [
      "8167\n",
      "8167\n"
     ]
    }
   ],
   "source": [
    "print(len(tokenized_data['input_ids']))  # Assuming tokenized_data is a dictionary including 'input_ids'\n",
    "print(len(labels))\n"
   ]
  },
  {
   "cell_type": "code",
   "execution_count": 32,
   "id": "0eafc283-8f97-4677-bfc7-58e50f1bbd52",
   "metadata": {},
   "outputs": [],
   "source": [
    "df['input_ids'] = df['Resume'].apply(lambda x: tokenizer.encode(x, truncation=True, max_length=512, padding='max_length'))"
   ]
  },
  {
   "cell_type": "code",
   "execution_count": 33,
   "id": "ca78f7aa-6fb6-43af-a338-46e35ae34e24",
   "metadata": {},
   "outputs": [],
   "source": [
    "input_ids = torch.tensor(list(df['input_ids']))"
   ]
  },
  {
   "cell_type": "code",
   "execution_count": 34,
   "id": "29e16fc4-0b32-4e4a-8c46-fd6f3c7d003e",
   "metadata": {},
   "outputs": [],
   "source": [
    "encodings = tokenizer(df['Resume'].tolist(), truncation=True, padding=True, max_length=512)\n"
   ]
  },
  {
   "cell_type": "code",
   "execution_count": 35,
   "id": "0cb67397-e52f-4744-8c35-21d94e258409",
   "metadata": {},
   "outputs": [],
   "source": [
    "labels = torch.tensor(list(df['Category'].astype('category').cat.codes))"
   ]
  },
  {
   "cell_type": "code",
   "execution_count": 36,
   "id": "8de4df16-e171-4368-914f-aa7334221d59",
   "metadata": {},
   "outputs": [],
   "source": [
    "train_indices, val_indices = train_test_split(range(len(labels)), test_size=0.1)"
   ]
  },
  {
   "cell_type": "code",
   "execution_count": 37,
   "id": "89051e3d-ab07-4c92-a739-237da5e160a1",
   "metadata": {},
   "outputs": [],
   "source": [
    "train_indices = torch.tensor(train_indices)  # Convert list of indices to tensor\n",
    "val_indices = torch.tensor(val_indices)"
   ]
  },
  {
   "cell_type": "code",
   "execution_count": 38,
   "id": "0d003c93-46db-404b-b749-802b8ba74341",
   "metadata": {},
   "outputs": [],
   "source": [
    "train_inputs, val_inputs, train_labels, val_labels = train_test_split(input_ids, labels, test_size=0.1)\n"
   ]
  },
  {
   "cell_type": "code",
   "execution_count": 39,
   "id": "84a0e647-85d5-466a-aa51-d685f98548fe",
   "metadata": {},
   "outputs": [
    {
     "name": "stderr",
     "output_type": "stream",
     "text": [
      "C:\\Users\\harsh\\AppData\\Local\\Temp\\ipykernel_28808\\1454450536.py:1: UserWarning: To copy construct from a tensor, it is recommended to use sourceTensor.clone().detach() or sourceTensor.clone().detach().requires_grad_(True), rather than torch.tensor(sourceTensor).\n",
      "  train_indices = torch.tensor(train_indices, dtype=torch.long)  # Specify the dtyp  explicitly\n",
      "C:\\Users\\harsh\\AppData\\Local\\Temp\\ipykernel_28808\\1454450536.py:2: UserWarning: To copy construct from a tensor, it is recommended to use sourceTensor.clone().detach() or sourceTensor.clone().detach().requires_grad_(True), rather than torch.tensor(sourceTensor).\n",
      "  val_indices = torch.tensor(val_indices, dtype=torch.long)\n"
     ]
    }
   ],
   "source": [
    "train_indices = torch.tensor(train_indices, dtype=torch.long)  # Specify the dtyp  explicitly\n",
    "val_indices = torch.tensor(val_indices, dtype=torch.long)\n"
   ]
  },
  {
   "cell_type": "code",
   "execution_count": 40,
   "id": "fb27845e-c36c-4d75-a41f-0cacc5b798df",
   "metadata": {},
   "outputs": [],
   "source": [
    "train_dataset = ResumeDataset({key: torch.tensor(val, dtype=torch.long)[train_indices] for key, val in encodings.items()}, labels[train_indices])\n",
    "val_dataset = ResumeDataset({key: torch.tensor(val, dtype=torch.long)[val_indices] for key, val in encodings.items()}, labels[val_indices])"
   ]
  },
  {
   "cell_type": "code",
   "execution_count": 41,
   "id": "5a7c242b-20f1-4c04-a234-3cd8904beb91",
   "metadata": {},
   "outputs": [],
   "source": [
    "num_labels = df['Category'].nunique()"
   ]
  },
  {
   "cell_type": "code",
   "execution_count": 42,
   "id": "9cccaa6b-bda1-42ca-a10c-8c618b7d15d5",
   "metadata": {},
   "outputs": [
    {
     "name": "stdout",
     "output_type": "stream",
     "text": [
      "Requirement already satisfied: ipywidgets in c:\\users\\harsh\\anaconda3-new\\lib\\site-packages (8.1.2)\n",
      "Requirement already satisfied: widgetsnbextension in c:\\users\\harsh\\anaconda3-new\\lib\\site-packages (4.0.10)\n",
      "Requirement already satisfied: comm>=0.1.3 in c:\\users\\harsh\\anaconda3-new\\lib\\site-packages (from ipywidgets) (0.2.2)\n",
      "Requirement already satisfied: ipython>=6.1.0 in c:\\users\\harsh\\anaconda3-new\\lib\\site-packages (from ipywidgets) (8.20.0)\n",
      "Requirement already satisfied: traitlets>=4.3.1 in c:\\users\\harsh\\anaconda3-new\\lib\\site-packages (from ipywidgets) (5.7.1)\n",
      "Requirement already satisfied: jupyterlab-widgets~=3.0.10 in c:\\users\\harsh\\anaconda3-new\\lib\\site-packages (from ipywidgets) (3.0.10)\n",
      "Requirement already satisfied: decorator in c:\\users\\harsh\\anaconda3-new\\lib\\site-packages (from ipython>=6.1.0->ipywidgets) (5.1.1)\n",
      "Requirement already satisfied: jedi>=0.16 in c:\\users\\harsh\\anaconda3-new\\lib\\site-packages (from ipython>=6.1.0->ipywidgets) (0.18.1)\n",
      "Requirement already satisfied: matplotlib-inline in c:\\users\\harsh\\anaconda3-new\\lib\\site-packages (from ipython>=6.1.0->ipywidgets) (0.1.6)\n",
      "Requirement already satisfied: prompt-toolkit<3.1.0,>=3.0.41 in c:\\users\\harsh\\anaconda3-new\\lib\\site-packages (from ipython>=6.1.0->ipywidgets) (3.0.43)\n",
      "Requirement already satisfied: pygments>=2.4.0 in c:\\users\\harsh\\anaconda3-new\\lib\\site-packages (from ipython>=6.1.0->ipywidgets) (2.15.1)\n",
      "Requirement already satisfied: stack-data in c:\\users\\harsh\\anaconda3-new\\lib\\site-packages (from ipython>=6.1.0->ipywidgets) (0.2.0)\n",
      "Requirement already satisfied: colorama in c:\\users\\harsh\\anaconda3-new\\lib\\site-packages (from ipython>=6.1.0->ipywidgets) (0.4.6)\n",
      "Requirement already satisfied: parso<0.9.0,>=0.8.0 in c:\\users\\harsh\\anaconda3-new\\lib\\site-packages (from jedi>=0.16->ipython>=6.1.0->ipywidgets) (0.8.3)\n",
      "Requirement already satisfied: wcwidth in c:\\users\\harsh\\anaconda3-new\\lib\\site-packages (from prompt-toolkit<3.1.0,>=3.0.41->ipython>=6.1.0->ipywidgets) (0.2.5)\n",
      "Requirement already satisfied: executing in c:\\users\\harsh\\anaconda3-new\\lib\\site-packages (from stack-data->ipython>=6.1.0->ipywidgets) (0.8.3)\n",
      "Requirement already satisfied: asttokens in c:\\users\\harsh\\anaconda3-new\\lib\\site-packages (from stack-data->ipython>=6.1.0->ipywidgets) (2.0.5)\n",
      "Requirement already satisfied: pure-eval in c:\\users\\harsh\\anaconda3-new\\lib\\site-packages (from stack-data->ipython>=6.1.0->ipywidgets) (0.2.2)\n",
      "Requirement already satisfied: six in c:\\users\\harsh\\anaconda3-new\\lib\\site-packages (from asttokens->stack-data->ipython>=6.1.0->ipywidgets) (1.16.0)\n"
     ]
    },
    {
     "name": "stderr",
     "output_type": "stream",
     "text": [
      "\u001b[33m(Deprecated) Installing extensions with the jupyter labextension install command is now deprecated and will be removed in a future major version of JupyterLab.\n",
      "\n",
      "Users should manage prebuilt extensions with package managers like pip and conda, and extension authors are encouraged to distribute their extensions as prebuilt packages \u001b[0m\n",
      "C:\\Users\\harsh\\anaconda3-New\\Lib\\site-packages\\jupyterlab\\debuglog.py:54: UserWarning: An error occurred.\n",
      "  warnings.warn(\"An error occurred.\")\n",
      "C:\\Users\\harsh\\anaconda3-New\\Lib\\site-packages\\jupyterlab\\debuglog.py:55: UserWarning: ValueError: Please install Node.js and npm before continuing installation. You may be able to install Node.js from your package manager, from conda, or directly from the Node.js website (https://nodejs.org).\n",
      "  warnings.warn(msg[-1].strip())\n",
      "C:\\Users\\harsh\\anaconda3-New\\Lib\\site-packages\\jupyterlab\\debuglog.py:56: UserWarning: See the log file for details: C:\\Users\\harsh\\AppData\\Local\\Temp\\jupyterlab-debug-qkht7lpe.log\n",
      "  warnings.warn(f\"See the log file for details: {log_path!s}\")\n",
      "[LabBuildApp] JupyterLab 4.2.0\n",
      "[LabBuildApp] Building in C:\\Users\\harsh\\anaconda3-New\\share\\jupyter\\lab\n",
      "[LabBuildApp] ERROR | Build failed.\n",
      "Troubleshooting: If the build failed due to an out-of-memory error, you\n",
      "may be able to fix it by disabling the `dev_build` and/or `minimize` options.\n",
      "\n",
      "If you are building via the `jupyter lab build` command, you can disable\n",
      "these options like so:\n",
      "\n",
      "jupyter lab build --dev-build=False --minimize=False\n",
      "\n",
      "You can also disable these options for all JupyterLab builds by adding these\n",
      "lines to a Jupyter config file named `jupyter_config.py`:\n",
      "\n",
      "c.LabBuildApp.minimize = False\n",
      "c.LabBuildApp.dev_build = False\n",
      "\n",
      "If you don't already have a `jupyter_config.py` file, you can create one by\n",
      "adding a blank file of that name to any of the Jupyter config directories.\n",
      "The config directories can be listed by running:\n",
      "\n",
      "jupyter --paths\n",
      "\n",
      "Explanation:\n",
      "\n",
      "- `dev-build`: This option controls whether a `dev` or a more streamlined\n",
      "`production` build is used. This option will default to `False` (i.e., the\n",
      "`production` build) for most users. However, if you have any labextensions\n",
      "installed from local files, this option will instead default to `True`.\n",
      "Explicitly setting `dev-build` to `False` will ensure that the `production`\n",
      "build is used in all circumstances.\n",
      "\n",
      "- `minimize`: This option controls whether your JS bundle is minified\n",
      "during the Webpack build, which helps to improve JupyterLab's overall\n",
      "performance. However, the minifier plugin used by Webpack is very memory\n",
      "intensive, so turning it off may help the build finish successfully in\n",
      "low-memory environments.\n",
      "\n",
      "C:\\Users\\harsh\\anaconda3-New\\Lib\\site-packages\\jupyterlab\\debuglog.py:54: UserWarning: An error occurred.\n",
      "  warnings.warn(\"An error occurred.\")\n",
      "C:\\Users\\harsh\\anaconda3-New\\Lib\\site-packages\\jupyterlab\\debuglog.py:55: UserWarning: ValueError: Please install Node.js and npm before continuing installation. You may be able to install Node.js from your package manager, from conda, or directly from the Node.js website (https://nodejs.org).\n",
      "  warnings.warn(msg[-1].strip())\n",
      "C:\\Users\\harsh\\anaconda3-New\\Lib\\site-packages\\jupyterlab\\debuglog.py:56: UserWarning: See the log file for details: C:\\Users\\harsh\\AppData\\Local\\Temp\\jupyterlab-debug-a1_eywyx.log\n",
      "  warnings.warn(f\"See the log file for details: {log_path!s}\")\n"
     ]
    }
   ],
   "source": [
    "# Upgrade ipywidgets and widgetsnbextension\n",
    "!pip install --upgrade ipywidgets widgetsnbextension\n",
    "\n",
    "# If using JupyterLab, install or update the necessary extension\n",
    "!jupyter labextension install @jupyter-widgets/jupyterlab-manager\n",
    "\n",
    "# You may need to rebuild JupyterLab if it's being used\n",
    "!jupyter lab build\n"
   ]
  },
  {
   "cell_type": "code",
   "execution_count": 43,
   "id": "1cea4050-4650-425d-a04f-68d7eeaba9ff",
   "metadata": {},
   "outputs": [
    {
     "name": "stderr",
     "output_type": "stream",
     "text": [
      "[LabBuildApp] JupyterLab 4.2.0\n",
      "[LabBuildApp] Building in C:\\Users\\harsh\\anaconda3-New\\share\\jupyter\\lab\n",
      "[LabBuildApp] ERROR | Build failed.\n",
      "Troubleshooting: If the build failed due to an out-of-memory error, you\n",
      "may be able to fix it by disabling the `dev_build` and/or `minimize` options.\n",
      "\n",
      "If you are building via the `jupyter lab build` command, you can disable\n",
      "these options like so:\n",
      "\n",
      "jupyter lab build --dev-build=False --minimize=False\n",
      "\n",
      "You can also disable these options for all JupyterLab builds by adding these\n",
      "lines to a Jupyter config file named `jupyter_config.py`:\n",
      "\n",
      "c.LabBuildApp.minimize = False\n",
      "c.LabBuildApp.dev_build = False\n",
      "\n",
      "If you don't already have a `jupyter_config.py` file, you can create one by\n",
      "adding a blank file of that name to any of the Jupyter config directories.\n",
      "The config directories can be listed by running:\n",
      "\n",
      "jupyter --paths\n",
      "\n",
      "Explanation:\n",
      "\n",
      "- `dev-build`: This option controls whether a `dev` or a more streamlined\n",
      "`production` build is used. This option will default to `False` (i.e., the\n",
      "`production` build) for most users. However, if you have any labextensions\n",
      "installed from local files, this option will instead default to `True`.\n",
      "Explicitly setting `dev-build` to `False` will ensure that the `production`\n",
      "build is used in all circumstances.\n",
      "\n",
      "- `minimize`: This option controls whether your JS bundle is minified\n",
      "during the Webpack build, which helps to improve JupyterLab's overall\n",
      "performance. However, the minifier plugin used by Webpack is very memory\n",
      "intensive, so turning it off may help the build finish successfully in\n",
      "low-memory environments.\n",
      "\n",
      "C:\\Users\\harsh\\anaconda3-New\\Lib\\site-packages\\jupyterlab\\debuglog.py:54: UserWarning: An error occurred.\n",
      "  warnings.warn(\"An error occurred.\")\n",
      "C:\\Users\\harsh\\anaconda3-New\\Lib\\site-packages\\jupyterlab\\debuglog.py:55: UserWarning: ValueError: Please install Node.js and npm before continuing installation. You may be able to install Node.js from your package manager, from conda, or directly from the Node.js website (https://nodejs.org).\n",
      "  warnings.warn(msg[-1].strip())\n",
      "C:\\Users\\harsh\\anaconda3-New\\Lib\\site-packages\\jupyterlab\\debuglog.py:56: UserWarning: See the log file for details: C:\\Users\\harsh\\AppData\\Local\\Temp\\jupyterlab-debug-t4yl7gla.log\n",
      "  warnings.warn(f\"See the log file for details: {log_path!s}\")\n"
     ]
    }
   ],
   "source": [
    "!jupyter lab build\n"
   ]
  },
  {
   "cell_type": "code",
   "execution_count": 44,
   "id": "750378f9-988a-4ead-9110-d215b242f956",
   "metadata": {},
   "outputs": [
    {
     "name": "stderr",
     "output_type": "stream",
     "text": [
      "[LabBuildApp] JupyterLab 4.2.0\n",
      "[LabBuildApp] Building in C:\\Users\\harsh\\anaconda3-New\\share\\jupyter\\lab\n",
      "[LabBuildApp] ERROR | Build failed.\n",
      "Troubleshooting: If the build failed due to an out-of-memory error, you\n",
      "may be able to fix it by disabling the `dev_build` and/or `minimize` options.\n",
      "\n",
      "If you are building via the `jupyter lab build` command, you can disable\n",
      "these options like so:\n",
      "\n",
      "jupyter lab build --dev-build=False --minimize=False\n",
      "\n",
      "You can also disable these options for all JupyterLab builds by adding these\n",
      "lines to a Jupyter config file named `jupyter_config.py`:\n",
      "\n",
      "c.LabBuildApp.minimize = False\n",
      "c.LabBuildApp.dev_build = False\n",
      "\n",
      "If you don't already have a `jupyter_config.py` file, you can create one by\n",
      "adding a blank file of that name to any of the Jupyter config directories.\n",
      "The config directories can be listed by running:\n",
      "\n",
      "jupyter --paths\n",
      "\n",
      "Explanation:\n",
      "\n",
      "- `dev-build`: This option controls whether a `dev` or a more streamlined\n",
      "`production` build is used. This option will default to `False` (i.e., the\n",
      "`production` build) for most users. However, if you have any labextensions\n",
      "installed from local files, this option will instead default to `True`.\n",
      "Explicitly setting `dev-build` to `False` will ensure that the `production`\n",
      "build is used in all circumstances.\n",
      "\n",
      "- `minimize`: This option controls whether your JS bundle is minified\n",
      "during the Webpack build, which helps to improve JupyterLab's overall\n",
      "performance. However, the minifier plugin used by Webpack is very memory\n",
      "intensive, so turning it off may help the build finish successfully in\n",
      "low-memory environments.\n",
      "\n",
      "C:\\Users\\harsh\\anaconda3-New\\Lib\\site-packages\\jupyterlab\\debuglog.py:54: UserWarning: An error occurred.\n",
      "  warnings.warn(\"An error occurred.\")\n",
      "C:\\Users\\harsh\\anaconda3-New\\Lib\\site-packages\\jupyterlab\\debuglog.py:55: UserWarning: ValueError: Please install Node.js and npm before continuing installation. You may be able to install Node.js from your package manager, from conda, or directly from the Node.js website (https://nodejs.org).\n",
      "  warnings.warn(msg[-1].strip())\n",
      "C:\\Users\\harsh\\anaconda3-New\\Lib\\site-packages\\jupyterlab\\debuglog.py:56: UserWarning: See the log file for details: C:\\Users\\harsh\\AppData\\Local\\Temp\\jupyterlab-debug-5cj8is8j.log\n",
      "  warnings.warn(f\"See the log file for details: {log_path!s}\")\n"
     ]
    }
   ],
   "source": [
    "!jupyter lab build --dev-build=False --minimize=False"
   ]
  },
  {
   "cell_type": "code",
   "execution_count": 45,
   "id": "4c33610b-82a6-4924-a87e-b8e8d26e3876",
   "metadata": {},
   "outputs": [
    {
     "name": "stderr",
     "output_type": "stream",
     "text": [
      "C:\\Users\\harsh\\anaconda3-New\\Lib\\site-packages\\huggingface_hub\\file_download.py:1132: FutureWarning: `resume_download` is deprecated and will be removed in version 1.0.0. Downloads always resume when possible. If you want to force a new download, use `force_download=True`.\n",
      "  warnings.warn(\n",
      "Some weights of DistilBertForSequenceClassification were not initialized from the model checkpoint at distilbert/distilbert-base-uncased and are newly initialized: ['classifier.bias', 'classifier.weight', 'pre_classifier.bias', 'pre_classifier.weight']\n",
      "You should probably TRAIN this model on a down-stream task to be able to use it for predictions and inference.\n"
     ]
    }
   ],
   "source": [
    "model = AutoModelForSequenceClassification.from_pretrained(\"distilbert/distilbert-base-uncased\", num_labels=num_labels)"
   ]
  },
  {
   "cell_type": "code",
   "execution_count": 46,
   "id": "b4bc3766-3dca-47e1-abc7-899965b6bd34",
   "metadata": {},
   "outputs": [
    {
     "name": "stdout",
     "output_type": "stream",
     "text": [
      "Requirement already satisfied: transformers[torch] in c:\\users\\harsh\\anaconda3-new\\lib\\site-packages (4.40.1)\n",
      "Requirement already satisfied: filelock in c:\\users\\harsh\\anaconda3-new\\lib\\site-packages (from transformers[torch]) (3.13.1)\n",
      "Requirement already satisfied: huggingface-hub<1.0,>=0.19.3 in c:\\users\\harsh\\anaconda3-new\\lib\\site-packages (from transformers[torch]) (0.23.0)\n",
      "Requirement already satisfied: numpy>=1.17 in c:\\users\\harsh\\anaconda3-new\\lib\\site-packages (from transformers[torch]) (1.24.4)\n",
      "Requirement already satisfied: packaging>=20.0 in c:\\users\\harsh\\anaconda3-new\\lib\\site-packages (from transformers[torch]) (23.1)\n",
      "Requirement already satisfied: pyyaml>=5.1 in c:\\users\\harsh\\anaconda3-new\\lib\\site-packages (from transformers[torch]) (6.0.1)\n",
      "Requirement already satisfied: regex!=2019.12.17 in c:\\users\\harsh\\anaconda3-new\\lib\\site-packages (from transformers[torch]) (2023.10.3)\n",
      "Requirement already satisfied: requests in c:\\users\\harsh\\anaconda3-new\\lib\\site-packages (from transformers[torch]) (2.31.0)\n",
      "Requirement already satisfied: tokenizers<0.20,>=0.19 in c:\\users\\harsh\\anaconda3-new\\lib\\site-packages (from transformers[torch]) (0.19.1)\n",
      "Requirement already satisfied: safetensors>=0.4.1 in c:\\users\\harsh\\anaconda3-new\\lib\\site-packages (from transformers[torch]) (0.4.3)\n",
      "Requirement already satisfied: tqdm>=4.27 in c:\\users\\harsh\\anaconda3-new\\lib\\site-packages (from transformers[torch]) (4.65.0)\n",
      "Requirement already satisfied: torch in c:\\users\\harsh\\anaconda3-new\\lib\\site-packages (from transformers[torch]) (2.3.0)\n",
      "Requirement already satisfied: accelerate>=0.21.0 in c:\\users\\harsh\\anaconda3-new\\lib\\site-packages (from transformers[torch]) (0.29.3)\n",
      "Requirement already satisfied: psutil in c:\\users\\harsh\\anaconda3-new\\lib\\site-packages (from accelerate>=0.21.0->transformers[torch]) (5.9.0)\n",
      "Requirement already satisfied: fsspec>=2023.5.0 in c:\\users\\harsh\\anaconda3-new\\lib\\site-packages (from huggingface-hub<1.0,>=0.19.3->transformers[torch]) (2023.10.0)\n",
      "Requirement already satisfied: typing-extensions>=3.7.4.3 in c:\\users\\harsh\\anaconda3-new\\lib\\site-packages (from huggingface-hub<1.0,>=0.19.3->transformers[torch]) (4.9.0)\n",
      "Requirement already satisfied: sympy in c:\\users\\harsh\\anaconda3-new\\lib\\site-packages (from torch->transformers[torch]) (1.12)\n",
      "Requirement already satisfied: networkx in c:\\users\\harsh\\anaconda3-new\\lib\\site-packages (from torch->transformers[torch]) (3.1)\n",
      "Requirement already satisfied: jinja2 in c:\\users\\harsh\\anaconda3-new\\lib\\site-packages (from torch->transformers[torch]) (3.1.3)\n",
      "Requirement already satisfied: mkl<=2021.4.0,>=2021.1.1 in c:\\users\\harsh\\anaconda3-new\\lib\\site-packages (from torch->transformers[torch]) (2021.4.0)\n",
      "Requirement already satisfied: colorama in c:\\users\\harsh\\anaconda3-new\\lib\\site-packages (from tqdm>=4.27->transformers[torch]) (0.4.6)\n",
      "Requirement already satisfied: charset-normalizer<4,>=2 in c:\\users\\harsh\\anaconda3-new\\lib\\site-packages (from requests->transformers[torch]) (2.0.4)\n",
      "Requirement already satisfied: idna<4,>=2.5 in c:\\users\\harsh\\anaconda3-new\\lib\\site-packages (from requests->transformers[torch]) (3.4)\n",
      "Requirement already satisfied: urllib3<3,>=1.21.1 in c:\\users\\harsh\\anaconda3-new\\lib\\site-packages (from requests->transformers[torch]) (2.0.7)\n",
      "Requirement already satisfied: certifi>=2017.4.17 in c:\\users\\harsh\\anaconda3-new\\lib\\site-packages (from requests->transformers[torch]) (2024.2.2)\n",
      "Requirement already satisfied: intel-openmp==2021.* in c:\\users\\harsh\\anaconda3-new\\lib\\site-packages (from mkl<=2021.4.0,>=2021.1.1->torch->transformers[torch]) (2021.4.0)\n",
      "Requirement already satisfied: tbb==2021.* in c:\\users\\harsh\\anaconda3-new\\lib\\site-packages (from mkl<=2021.4.0,>=2021.1.1->torch->transformers[torch]) (2021.12.0)\n",
      "Requirement already satisfied: MarkupSafe>=2.0 in c:\\users\\harsh\\anaconda3-new\\lib\\site-packages (from jinja2->torch->transformers[torch]) (2.1.3)\n",
      "Requirement already satisfied: mpmath>=0.19 in c:\\users\\harsh\\anaconda3-new\\lib\\site-packages (from sympy->torch->transformers[torch]) (1.3.0)\n",
      "Note: you may need to restart the kernel to use updated packages.\n"
     ]
    }
   ],
   "source": [
    "pip install transformers[torch]"
   ]
  },
  {
   "cell_type": "code",
   "execution_count": 50,
   "id": "f0078776-904e-4941-9ce1-f8965dc875fd",
   "metadata": {},
   "outputs": [],
   "source": [
    "training_args = TrainingArguments(\n",
    "    output_dir='./results',\n",
    "    num_train_epochs=3,\n",
    "    per_device_train_batch_size=8,\n",
    "    per_device_eval_batch_size=16,\n",
    "    warmup_steps=500,\n",
    "    weight_decay=0.01,\n",
    "    logging_dir='./logs',\n",
    "    logging_steps=10,\n",
    "    evaluation_strategy=\"epoch\"\n",
    ")"
   ]
  },
  {
   "cell_type": "code",
   "execution_count": 51,
   "id": "fb1e456c-8b4f-45be-a8be-81902c4af58a",
   "metadata": {},
   "outputs": [],
   "source": [
    "from sklearn.metrics import accuracy_score\n",
    "\n",
    "def compute_metrics(p):\n",
    "    predictions = np.argmax(p.predictions, axis=1)\n",
    "    return {\"accuracy\": accuracy_score(p.label_ids, predictions)}"
   ]
  },
  {
   "cell_type": "code",
   "execution_count": 52,
   "id": "5b872d69-65ea-496f-b3da-9819339036a9",
   "metadata": {},
   "outputs": [],
   "source": [
    "trainer = Trainer(\n",
    "    model=model,\n",
    "    args=training_args,\n",
    "    train_dataset=train_dataset,\n",
    "    eval_dataset=val_dataset,\n",
    "    compute_metrics=compute_metrics  # Include the compute metrics function\n",
    ")\n"
   ]
  },
  {
   "cell_type": "code",
   "execution_count": 53,
   "id": "7dbf5d6f-57ec-43ba-8c2b-4948a4738571",
   "metadata": {},
   "outputs": [
    {
     "name": "stderr",
     "output_type": "stream",
     "text": [
      "C:\\Users\\harsh\\AppData\\Local\\Temp\\ipykernel_28808\\192013824.py:7: UserWarning: To copy construct from a tensor, it is recommended to use sourceTensor.clone().detach() or sourceTensor.clone().detach().requires_grad_(True), rather than torch.tensor(sourceTensor).\n",
      "  item = {key: torch.tensor(val[idx]) for key, val in self.encodings.items()}\n",
      "C:\\Users\\harsh\\AppData\\Local\\Temp\\ipykernel_28808\\192013824.py:8: UserWarning: To copy construct from a tensor, it is recommended to use sourceTensor.clone().detach() or sourceTensor.clone().detach().requires_grad_(True), rather than torch.tensor(sourceTensor).\n",
      "  item['labels'] = torch.tensor(self.labels[idx])\n"
     ]
    },
    {
     "data": {
      "text/html": [
       "\n",
       "    <div>\n",
       "      \n",
       "      <progress value='2757' max='2757' style='width:300px; height:20px; vertical-align: middle;'></progress>\n",
       "      [2757/2757 5:25:09, Epoch 3/3]\n",
       "    </div>\n",
       "    <table border=\"1\" class=\"dataframe\">\n",
       "  <thead>\n",
       " <tr style=\"text-align: left;\">\n",
       "      <th>Epoch</th>\n",
       "      <th>Training Loss</th>\n",
       "      <th>Validation Loss</th>\n",
       "      <th>Accuracy</th>\n",
       "    </tr>\n",
       "  </thead>\n",
       "  <tbody>\n",
       "    <tr>\n",
       "      <td>1</td>\n",
       "      <td>0.274500</td>\n",
       "      <td>0.356349</td>\n",
       "      <td>0.916769</td>\n",
       "    </tr>\n",
       "    <tr>\n",
       "      <td>2</td>\n",
       "      <td>0.158500</td>\n",
       "      <td>0.282105</td>\n",
       "      <td>0.933905</td>\n",
       "    </tr>\n",
       "    <tr>\n",
       "      <td>3</td>\n",
       "      <td>0.014700</td>\n",
       "      <td>0.271009</td>\n",
       "      <td>0.943696</td>\n",
       "    </tr>\n",
       "  </tbody>\n",
       "</table><p>"
      ],
      "text/plain": [
       "<IPython.core.display.HTML object>"
      ]
     },
     "metadata": {},
     "output_type": "display_data"
    },
    {
     "name": "stderr",
     "output_type": "stream",
     "text": [
      "C:\\Users\\harsh\\AppData\\Local\\Temp\\ipykernel_28808\\192013824.py:7: UserWarning: To copy construct from a tensor, it is recommended to use sourceTensor.clone().detach() or sourceTensor.clone().detach().requires_grad_(True), rather than torch.tensor(sourceTensor).\n",
      "  item = {key: torch.tensor(val[idx]) for key, val in self.encodings.items()}\n",
      "C:\\Users\\harsh\\AppData\\Local\\Temp\\ipykernel_28808\\192013824.py:8: UserWarning: To copy construct from a tensor, it is recommended to use sourceTensor.clone().detach() or sourceTensor.clone().detach().requires_grad_(True), rather than torch.tensor(sourceTensor).\n",
      "  item['labels'] = torch.tensor(self.labels[idx])\n",
      "C:\\Users\\harsh\\AppData\\Local\\Temp\\ipykernel_28808\\192013824.py:7: UserWarning: To copy construct from a tensor, it is recommended to use sourceTensor.clone().detach() or sourceTensor.clone().detach().requires_grad_(True), rather than torch.tensor(sourceTensor).\n",
      "  item = {key: torch.tensor(val[idx]) for key, val in self.encodings.items()}\n",
      "C:\\Users\\harsh\\AppData\\Local\\Temp\\ipykernel_28808\\192013824.py:8: UserWarning: To copy construct from a tensor, it is recommended to use sourceTensor.clone().detach() or sourceTensor.clone().detach().requires_grad_(True), rather than torch.tensor(sourceTensor).\n",
      "  item['labels'] = torch.tensor(self.labels[idx])\n",
      "C:\\Users\\harsh\\AppData\\Local\\Temp\\ipykernel_28808\\192013824.py:7: UserWarning: To copy construct from a tensor, it is recommended to use sourceTensor.clone().detach() or sourceTensor.clone().detach().requires_grad_(True), rather than torch.tensor(sourceTensor).\n",
      "  item = {key: torch.tensor(val[idx]) for key, val in self.encodings.items()}\n",
      "C:\\Users\\harsh\\AppData\\Local\\Temp\\ipykernel_28808\\192013824.py:8: UserWarning: To copy construct from a tensor, it is recommended to use sourceTensor.clone().detach() or sourceTensor.clone().detach().requires_grad_(True), rather than torch.tensor(sourceTensor).\n",
      "  item['labels'] = torch.tensor(self.labels[idx])\n",
      "C:\\Users\\harsh\\AppData\\Local\\Temp\\ipykernel_28808\\192013824.py:7: UserWarning: To copy construct from a tensor, it is recommended to use sourceTensor.clone().detach() or sourceTensor.clone().detach().requires_grad_(True), rather than torch.tensor(sourceTensor).\n",
      "  item = {key: torch.tensor(val[idx]) for key, val in self.encodings.items()}\n",
      "C:\\Users\\harsh\\AppData\\Local\\Temp\\ipykernel_28808\\192013824.py:8: UserWarning: To copy construct from a tensor, it is recommended to use sourceTensor.clone().detach() or sourceTensor.clone().detach().requires_grad_(True), rather than torch.tensor(sourceTensor).\n",
      "  item['labels'] = torch.tensor(self.labels[idx])\n",
      "C:\\Users\\harsh\\AppData\\Local\\Temp\\ipykernel_28808\\192013824.py:7: UserWarning: To copy construct from a tensor, it is recommended to use sourceTensor.clone().detach() or sourceTensor.clone().detach().requires_grad_(True), rather than torch.tensor(sourceTensor).\n",
      "  item = {key: torch.tensor(val[idx]) for key, val in self.encodings.items()}\n",
      "C:\\Users\\harsh\\AppData\\Local\\Temp\\ipykernel_28808\\192013824.py:8: UserWarning: To copy construct from a tensor, it is recommended to use sourceTensor.clone().detach() or sourceTensor.clone().detach().requires_grad_(True), rather than torch.tensor(sourceTensor).\n",
      "  item['labels'] = torch.tensor(self.labels[idx])\n",
      "C:\\Users\\harsh\\AppData\\Local\\Temp\\ipykernel_28808\\192013824.py:7: UserWarning: To copy construct from a tensor, it is recommended to use sourceTensor.clone().detach() or sourceTensor.clone().detach().requires_grad_(True), rather than torch.tensor(sourceTensor).\n",
      "  item = {key: torch.tensor(val[idx]) for key, val in self.encodings.items()}\n",
      "C:\\Users\\harsh\\AppData\\Local\\Temp\\ipykernel_28808\\192013824.py:8: UserWarning: To copy construct from a tensor, it is recommended to use sourceTensor.clone().detach() or sourceTensor.clone().detach().requires_grad_(True), rather than torch.tensor(sourceTensor).\n",
      "  item['labels'] = torch.tensor(self.labels[idx])\n",
      "C:\\Users\\harsh\\AppData\\Local\\Temp\\ipykernel_28808\\192013824.py:7: UserWarning: To copy construct from a tensor, it is recommended to use sourceTensor.clone().detach() or sourceTensor.clone().detach().requires_grad_(True), rather than torch.tensor(sourceTensor).\n",
      "  item = {key: torch.tensor(val[idx]) for key, val in self.encodings.items()}\n",
      "C:\\Users\\harsh\\AppData\\Local\\Temp\\ipykernel_28808\\192013824.py:8: UserWarning: To copy construct from a tensor, it is recommended to use sourceTensor.clone().detach() or sourceTensor.clone().detach().requires_grad_(True), rather than torch.tensor(sourceTensor).\n",
      "  item['labels'] = torch.tensor(self.labels[idx])\n"
     ]
    },
    {
     "data": {
      "text/plain": [
       "TrainOutput(global_step=2757, training_loss=0.30489700932175967, metrics={'train_runtime': 19517.8639, 'train_samples_per_second': 1.13, 'train_steps_per_second': 0.141, 'total_flos': 2921322862080000.0, 'train_loss': 0.30489700932175967, 'epoch': 3.0})"
      ]
     },
     "execution_count": 53,
     "metadata": {},
     "output_type": "execute_result"
    }
   ],
   "source": [
    "trainer.train()"
   ]
  },
  {
   "cell_type": "code",
   "execution_count": 57,
   "id": "5664d0ee-64e6-4e4d-af4e-67e3c8152392",
   "metadata": {},
   "outputs": [],
   "source": [
    "def predict_job_category(resume_text):\n",
    "    # Tokenize the input resume text\n",
    "    encoded_input = tokenizer(resume_text, return_tensors='pt', truncation=True, padding=True, max_length=512)\n",
    "    \n",
    "    # Predict using the trained model\n",
    "    model.eval()  # Set the model to evaluation mode\n",
    "    with torch.no_grad():\n",
    "        outputs = model(**encoded_input)\n",
    "    \n",
    "    # Get the predicted job category index with the highest logit\n",
    "    predicted_index = torch.argmax(outputs.logits).item()\n",
    "\n",
    "    # Convert index to job category name\n",
    "    job_category = df['Category'].astype('category').cat.categories[predicted_index]\n",
    "    return job_category\n",
    "\n",
    "# Example use\n",
    "\n"
   ]
  },
  {
   "cell_type": "code",
   "execution_count": 58,
   "id": "d3df0db3-b73b-4614-9c63-ea0c9d85e94a",
   "metadata": {},
   "outputs": [],
   "source": [
    "resume_sample = \"\"\"\n",
    "Developed several high-transaction financial services applications using and Spring Boot, improving transaction processing time by up to 40%.\n",
    "Implemented Microservices architecture for breaking down the legacy monolithic application into more manageable and scalable services.\n",
    "led weekly training sessions on code efficiency and best practices.\n",
    "Education\n",
    "Master of Science in Software Engineering\n",
    "University of Washington, Seattle, WA\n",
    "2010 - 2012\n",
    "\n",
    "Skills\n",
    "\n",
    "Languages: \n",
    "Frameworks: Java, Spring, Hibernate\n",
    "Database: Oracle, MySQL\n",
    "Tools: Maven, Gradle, Eclipse\n",
    "\"\"\""
   ]
  },
  {
   "cell_type": "code",
   "execution_count": 59,
   "id": "ce550e80-43ad-47cf-931d-2bbe1c56adb3",
   "metadata": {},
   "outputs": [
    {
     "name": "stdout",
     "output_type": "stream",
     "text": [
      "The predicted is: Database_Administrator\n"
     ]
    }
   ],
   "source": [
    "predicted_category = predict_job_category(resume_sample)\n",
    "print(f\"The predicted is: {predicted_category}\")"
   ]
  },
  {
   "cell_type": "code",
   "execution_count": 60,
   "id": "9753dce7-4387-4c06-b781-19d15c4d4167",
   "metadata": {},
   "outputs": [
    {
     "name": "stderr",
     "output_type": "stream",
     "text": [
      "C:\\Users\\harsh\\AppData\\Local\\Temp\\ipykernel_28808\\192013824.py:7: UserWarning: To copy construct from a tensor, it is recommended to use sourceTensor.clone().detach() or sourceTensor.clone().detach().requires_grad_(True), rather than torch.tensor(sourceTensor).\n",
      "  item = {key: torch.tensor(val[idx]) for key, val in self.encodings.items()}\n",
      "C:\\Users\\harsh\\AppData\\Local\\Temp\\ipykernel_28808\\192013824.py:8: UserWarning: To copy construct from a tensor, it is recommended to use sourceTensor.clone().detach() or sourceTensor.clone().detach().requires_grad_(True), rather than torch.tensor(sourceTensor).\n",
      "  item['labels'] = torch.tensor(self.labels[idx])\n"
     ]
    },
    {
     "data": {
      "text/html": [
       "\n",
       "    <div>\n",
       "      \n",
       "      <progress value='52' max='52' style='width:300px; height:20px; vertical-align: middle;'></progress>\n",
       "      [52/52 03:54]\n",
       "    </div>\n",
       "    "
      ],
      "text/plain": [
       "<IPython.core.display.HTML object>"
      ]
     },
     "metadata": {},
     "output_type": "display_data"
    },
    {
     "name": "stdout",
     "output_type": "stream",
     "text": [
      "Validation accuracy: 0.9436964504283966\n"
     ]
    },
    {
     "name": "stderr",
     "output_type": "stream",
     "text": [
      "C:\\Users\\harsh\\AppData\\Local\\Temp\\ipykernel_28808\\192013824.py:7: UserWarning: To copy construct from a tensor, it is recommended to use sourceTensor.clone().detach() or sourceTensor.clone().detach().requires_grad_(True), rather than torch.tensor(sourceTensor).\n",
      "  item = {key: torch.tensor(val[idx]) for key, val in self.encodings.items()}\n",
      "C:\\Users\\harsh\\AppData\\Local\\Temp\\ipykernel_28808\\192013824.py:8: UserWarning: To copy construct from a tensor, it is recommended to use sourceTensor.clone().detach() or sourceTensor.clone().detach().requires_grad_(True), rather than torch.tensor(sourceTensor).\n",
      "  item['labels'] = torch.tensor(self.labels[idx])\n"
     ]
    },
    {
     "name": "stdout",
     "output_type": "stream",
     "text": [
      "Manually calculated accuracy: 0.9436964504283966\n"
     ]
    }
   ],
   "source": [
    "# Using Trainer's built-in evaluate method\n",
    "results = trainer.evaluate()\n",
    "print(f\"Validation accuracy: {results['eval_accuracy']}\")\n",
    "\n",
    "# Manually calculating accuracy\n",
    "correct_predictions = 0\n",
    "total_predictions = 0\n",
    "\n",
    "for batch in val_dataset:\n",
    "    inputs = {k: v.unsqueeze(0) for k, v in batch.items() if k != 'labels'}  # Add batch dimension\n",
    "    labels = batch['labels']\n",
    "    with torch.no_grad():\n",
    "        outputs = model(**inputs)\n",
    "    predicted_index = torch.argmax(outputs.logits).item()\n",
    "    correct_predictions += (predicted_index == labels.item())\n",
    "    total_predictions += 1\n",
    "\n",
    "accuracy = correct_predictions / total_predictions\n",
    "print(f\"Manually calculated accuracy: {accuracy}\")\n"
   ]
  },
  {
   "cell_type": "code",
   "execution_count": 61,
   "id": "156d55c6-591f-4f05-89a4-3235ee194b77",
   "metadata": {},
   "outputs": [
    {
     "name": "stderr",
     "output_type": "stream",
     "text": [
      "C:\\Users\\harsh\\AppData\\Local\\Temp\\ipykernel_28808\\192013824.py:7: UserWarning: To copy construct from a tensor, it is recommended to use sourceTensor.clone().detach() or sourceTensor.clone().detach().requires_grad_(True), rather than torch.tensor(sourceTensor).\n",
      "  item = {key: torch.tensor(val[idx]) for key, val in self.encodings.items()}\n",
      "C:\\Users\\harsh\\AppData\\Local\\Temp\\ipykernel_28808\\192013824.py:8: UserWarning: To copy construct from a tensor, it is recommended to use sourceTensor.clone().detach() or sourceTensor.clone().detach().requires_grad_(True), rather than torch.tensor(sourceTensor).\n",
      "  item['labels'] = torch.tensor(self.labels[idx])\n"
     ]
    },
    {
     "name": "stdout",
     "output_type": "stream",
     "text": [
      "Validation accuracy: 0.9436964504283966\n"
     ]
    }
   ],
   "source": [
    "import torch\n",
    "from sklearn.metrics import accuracy_score\n",
    "\n",
    "# Ensure model is in evaluation mode\n",
    "model.eval()\n",
    "\n",
    "# Prepare to collect predictions and actual labels\n",
    "all_predictions = []\n",
    "all_labels = []\n",
    "\n",
    "# Loop over the validation dataset\n",
    "for batch in DataLoader(val_dataset, batch_size=16):  # Adjust batch_size as appropriate\n",
    "    inputs = {k: v.to(model.device) for k, v in batch.items() if k != 'labels'}  # Ensure inputs are on the same device as model\n",
    "    labels = batch['labels'].to(model.device)  # Ensure labels are on the same device as model\n",
    "    with torch.no_grad():\n",
    "        outputs = model(**inputs)\n",
    "        predictions = torch.argmax(outputs.logits, dim=-1)\n",
    "        all_predictions.extend(predictions.cpu().numpy())  # Collect predictions\n",
    "        all_labels.extend(labels.cpu().numpy())  # Collect actual labels\n",
    "\n",
    "# Calculate accuracy\n",
    "accuracy = accuracy_score(all_labels, all_predictions)\n",
    "print(f\"Validation accuracy: {accuracy}\")\n"
   ]
  },
  {
   "cell_type": "code",
   "execution_count": null,
   "id": "7f50219a-a38e-449b-841c-02cea5e369d6",
   "metadata": {},
   "outputs": [],
   "source": []
  }
 ],
 "metadata": {
  "kernelspec": {
   "display_name": "Python 3 (ipykernel)",
   "language": "python",
   "name": "python3"
  },
  "language_info": {
   "codemirror_mode": {
    "name": "ipython",
    "version": 3
   },
   "file_extension": ".py",
   "mimetype": "text/x-python",
   "name": "python",
   "nbconvert_exporter": "python",
   "pygments_lexer": "ipython3",
   "version": "3.11.7"
  }
 },
 "nbformat": 4,
 "nbformat_minor": 5
}
